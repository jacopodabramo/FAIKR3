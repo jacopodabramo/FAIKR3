{
 "cells": [
  {
   "cell_type": "markdown",
   "metadata": {},
   "source": [
    "# Dataset\n",
    "https://www.kaggle.com/datasets/pavansubhasht/ibm-hr-analytics-attrition-dataset\n",
    "## Some explanation"
   ]
  },
  {
   "cell_type": "code",
   "execution_count": 205,
   "metadata": {},
   "outputs": [
    {
     "name": "stdout",
     "output_type": "stream",
     "text": [
      "Index(['Age', 'Attrition', 'BusinessTravel', 'DailyRate', 'Department',\n",
      "       'DistanceFromHome', 'Education', 'EducationField', 'EmployeeCount',\n",
      "       'EmployeeNumber', 'EnvironmentSatisfaction', 'Gender', 'HourlyRate',\n",
      "       'JobInvolvement', 'JobLevel', 'JobRole', 'JobSatisfaction',\n",
      "       'MaritalStatus', 'MonthlyIncome', 'MonthlyRate', 'NumCompaniesWorked',\n",
      "       'Over18', 'OverTime', 'PercentSalaryHike', 'PerformanceRating',\n",
      "       'RelationshipSatisfaction', 'StandardHours', 'StockOptionLevel',\n",
      "       'TotalWorkingYears', 'TrainingTimesLastYear', 'WorkLifeBalance',\n",
      "       'YearsAtCompany', 'YearsInCurrentRole', 'YearsSinceLastPromotion',\n",
      "       'YearsWithCurrManager'],\n",
      "      dtype='object') 35\n",
      "   Age Attrition     BusinessTravel  DailyRate              Department  \\\n",
      "0   41       Yes      Travel_Rarely       1102                   Sales   \n",
      "1   49        No  Travel_Frequently        279  Research & Development   \n",
      "2   37       Yes      Travel_Rarely       1373  Research & Development   \n",
      "3   33        No  Travel_Frequently       1392  Research & Development   \n",
      "4   27        No      Travel_Rarely        591  Research & Development   \n",
      "\n",
      "   DistanceFromHome  Education EducationField  EmployeeCount  EmployeeNumber  \\\n",
      "0                 1          2  Life Sciences              1               1   \n",
      "1                 8          1  Life Sciences              1               2   \n",
      "2                 2          2          Other              1               4   \n",
      "3                 3          4  Life Sciences              1               5   \n",
      "4                 2          1        Medical              1               7   \n",
      "\n",
      "   ...  RelationshipSatisfaction StandardHours  StockOptionLevel  \\\n",
      "0  ...                         1            80                 0   \n",
      "1  ...                         4            80                 1   \n",
      "2  ...                         2            80                 0   \n",
      "3  ...                         3            80                 0   \n",
      "4  ...                         4            80                 1   \n",
      "\n",
      "   TotalWorkingYears  TrainingTimesLastYear WorkLifeBalance  YearsAtCompany  \\\n",
      "0                  8                      0               1               6   \n",
      "1                 10                      3               3              10   \n",
      "2                  7                      3               3               0   \n",
      "3                  8                      3               3               8   \n",
      "4                  6                      3               3               2   \n",
      "\n",
      "  YearsInCurrentRole  YearsSinceLastPromotion  YearsWithCurrManager  \n",
      "0                  4                        0                     5  \n",
      "1                  7                        1                     7  \n",
      "2                  0                        0                     0  \n",
      "3                  7                        3                     0  \n",
      "4                  2                        2                     2  \n",
      "\n",
      "[5 rows x 35 columns]\n"
     ]
    }
   ],
   "source": [
    "import pandas as pd\n",
    "import numpy as np\n",
    "\n",
    "df = pd.read_csv('./data/dataset.csv')\n",
    "print(df.columns,len(df.columns))\n",
    "print(df.head())\n"
   ]
  },
  {
   "cell_type": "markdown",
   "metadata": {},
   "source": [
    "# Preprocessing\n",
    "## Dropping columns (explanation)"
   ]
  },
  {
   "cell_type": "code",
   "execution_count": 206,
   "metadata": {},
   "outputs": [
    {
     "name": "stdout",
     "output_type": "stream",
     "text": [
      "Index(['Age', 'Attrition', 'BusinessTravel', 'DistanceFromHome', 'Education',\n",
      "       'EnvironmentSatisfaction', 'Gender', 'JobLevel', 'JobSatisfaction',\n",
      "       'MaritalStatus', 'MonthlyIncome', 'OverTime', 'PerformanceRating',\n",
      "       'TotalWorkingYears', 'WorkLifeBalance'],\n",
      "      dtype='object') 15\n"
     ]
    }
   ],
   "source": [
    "\n",
    "df2 = df.drop(['EducationField','EmployeeCount','EmployeeNumber','StockOptionLevel','YearsWithCurrManager','TrainingTimesLastYear',\n",
    "            'HourlyRate','DailyRate','PercentSalaryHike','YearsAtCompany','MonthlyRate','StandardHours',\n",
    "            'NumCompaniesWorked','Over18','YearsSinceLastPromotion','StandardHours','JobInvolvement','JobRole','RelationshipSatisfaction',\n",
    "            'Department','YearsInCurrentRole'], axis= 1)\n",
    "print(df2.columns,len(df2.columns))\n",
    "\n",
    "\n"
   ]
  },
  {
   "cell_type": "markdown",
   "metadata": {},
   "source": [
    "## Discretization (explanation)\n",
    "(note): in the dataset there are not values equals to 1 and 2 for PerformanceRating\n",
    "nella cella successiva più che una discretizzazione è un mapping anche perchè la suddivisione è già data dal dataset\n",
    "Questo è un mapping perchè viengono dati dal dataset questi valori.\n",
    "Quelli dopo sono valori di discretizzazione assegnati da noi"
   ]
  },
  {
   "cell_type": "code",
   "execution_count": 207,
   "metadata": {},
   "outputs": [
    {
     "name": "stdout",
     "output_type": "stream",
     "text": [
      "New values for Education:  ['Bachelor' 'Below_college' 'College' 'Doctor' 'Master']\n",
      "New values for JobSatisfaction:  ['High' 'Low' 'Medium' 'Very_high']\n",
      "New values for PerformanceRating:  ['Excellent' 'Outstanding']\n",
      "New values for WorkLifeBalance:  ['Bad' 'Best' 'Better' 'Good']\n"
     ]
    }
   ],
   "source": [
    "map_ed =  {1: 'Below_college',2: 'College', 3: 'Bachelor', 4: 'Master', 5: 'Doctor'}\n",
    "map_sat = {1: 'Low', 2: 'Medium', 3: 'High', 4: 'Very_high'}\n",
    "map_rat = {1: 'Low', 2: 'Good', 3: 'Excellent', 4: 'Outstanding'}\n",
    "map_life = {1: 'Bad', 2: 'Good', 3: 'Better', 4: 'Best'}\n",
    "\n",
    "def mapping(x,map):\n",
    "    if x in map.keys():\n",
    "        return map[x]\n",
    "    raise Exception\n",
    "\n",
    "df2['Education'] = df['Education'].apply(lambda x: mapping(x,map_ed))\n",
    "df2['JobSatisfaction'] = df['JobSatisfaction'].apply(lambda x: mapping(x,map_sat))\n",
    "df2['PerformanceRating'] = df['PerformanceRating'].apply(lambda x: mapping(x,map_rat))\n",
    "df2['WorkLifeBalance'] = df['WorkLifeBalance'].apply(lambda x: mapping(x,map_life))\n",
    "\n",
    "\n",
    "print(\"New values for Education: \",np.unique(df2['Education']))\n",
    "print(\"New values for JobSatisfaction: \",np.unique(df2['JobSatisfaction']))\n",
    "print(\"New values for PerformanceRating: \",np.unique(df2['PerformanceRating']))\n",
    "print(\"New values for WorkLifeBalance: \",np.unique(df2['WorkLifeBalance']))"
   ]
  },
  {
   "cell_type": "code",
   "execution_count": 208,
   "metadata": {},
   "outputs": [
    {
     "data": {
      "text/plain": [
       "array([[<AxesSubplot:title={'center':'JobLevel'}>]], dtype=object)"
      ]
     },
     "execution_count": 208,
     "metadata": {},
     "output_type": "execute_result"
    },
    {
     "data": {
      "image/png": "[encoded data removed]",
      "text/plain": [
       "<Figure size 720x720 with 1 Axes>"
      ]
     },
     "metadata": {
      "needs_background": "light"
     },
     "output_type": "display_data"
    }
   ],
   "source": [
    "df.hist(\"JobLevel\", bins=100, figsize=(10,10))"
   ]
  },
  {
   "cell_type": "markdown",
   "metadata": {},
   "source": [
    "Ho provato questa suddivisione visto che il livello 4 e 5 sono pochi\n",
    "Se hai più creatività si possono mettere valori più esplicativi"
   ]
  },
  {
   "cell_type": "code",
   "execution_count": 209,
   "metadata": {},
   "outputs": [
    {
     "name": "stdout",
     "output_type": "stream",
     "text": [
      "['Director' 'Manager' 'Rappresentative' 'Technician']\n",
      "[218 175 534 543]\n"
     ]
    }
   ],
   "source": [
    "level = {1: 'Technician', 2: 'Rappresentative', 3: 'Director', 4: 'Manager', 5: 'Manager'}\n",
    "df2['JobLevel'] = df['JobLevel'].apply(lambda x: mapping(x,level))\n",
    "print(np.unique(df2[\"JobLevel\"], return_counts=True)[0])\n",
    "print(np.unique(df2[\"JobLevel\"], return_counts=True)[1])"
   ]
  },
  {
   "cell_type": "markdown",
   "metadata": {},
   "source": [
    "## We decide to discretize age....\n",
    "si possono usare suddivisioni di intervalli diversi, ci dobbiamo basare sulla distribuzione dei dati dell'età\n",
    "l'idea è fare <25, 26-39, 40-49, >50\n",
    "nel codice ho fatto diversamente"
   ]
  },
  {
   "cell_type": "code",
   "execution_count": 210,
   "metadata": {},
   "outputs": [
    {
     "data": {
      "text/plain": [
       "array([[<AxesSubplot:title={'center':'Age'}>]], dtype=object)"
      ]
     },
     "execution_count": 210,
     "metadata": {},
     "output_type": "execute_result"
    },
    {
     "data": {
      "image/png": "[encoded data removed]",
      "text/plain": [
       "<Figure size 720x720 with 1 Axes>"
      ]
     },
     "metadata": {
      "needs_background": "light"
     },
     "output_type": "display_data"
    }
   ],
   "source": [
    "df.hist(\"Age\", bins=100, figsize=(10,10))"
   ]
  },
  {
   "cell_type": "code",
   "execution_count": 211,
   "metadata": {},
   "outputs": [
    {
     "name": "stdout",
     "output_type": "stream",
     "text": [
      "New values for age:\n",
      "['20-29' '30-39' '40-49' '<20' '>50']\n",
      "[309 622 349  17 173]\n"
     ]
    }
   ],
   "source": [
    "def discretize_age(x):\n",
    "    if x < 20:\n",
    "        return '<20'\n",
    "    if x < 30:\n",
    "        return '20-29'\n",
    "    if x < 40:\n",
    "        return '30-39'\n",
    "    if x < 50:\n",
    "        return '40-49'\n",
    "    return '>50'\n",
    "\n",
    "df2['Age'] = df['Age'].apply(lambda x: discretize_age(x))\n",
    "print(\"New values for age:\")\n",
    "print(np.unique(df2[\"Age\"], return_counts=True)[0])\n",
    "print(np.unique(df2[\"Age\"], return_counts=True)[1])"
   ]
  },
  {
   "cell_type": "code",
   "execution_count": 212,
   "metadata": {},
   "outputs": [
    {
     "data": {
      "text/plain": [
       "array([[<AxesSubplot:title={'center':'DistanceFromHome'}>]], dtype=object)"
      ]
     },
     "execution_count": 212,
     "metadata": {},
     "output_type": "execute_result"
    },
    {
     "data": {
      "image/png": "[encoded data removed]",
      "text/plain": [
       "<Figure size 720x720 with 1 Axes>"
      ]
     },
     "metadata": {
      "needs_background": "light"
     },
     "output_type": "display_data"
    }
   ],
   "source": [
    "df.hist(\"DistanceFromHome\", bins=100, figsize=(10,10))"
   ]
  },
  {
   "cell_type": "markdown",
   "metadata": {},
   "source": [
    "La distribuzione dei dati fa un po' schifo\n",
    "Penso che a logica la suddivisione migliore è la seguente"
   ]
  },
  {
   "cell_type": "code",
   "execution_count": 213,
   "metadata": {},
   "outputs": [
    {
     "name": "stdout",
     "output_type": "stream",
     "text": [
      "New values for DistanceFromHome:\n",
      "['long' 'medium' 'short']\n",
      "[229 301 940]\n"
     ]
    }
   ],
   "source": [
    "def discretize_distance(x):\n",
    "    if x < 10:\n",
    "        return 'short'\n",
    "    if x < 20:\n",
    "        return 'medium'\n",
    "    return 'long'\n",
    "    \n",
    "\n",
    "df2['DistanceFromHome'] = df['DistanceFromHome'].apply(lambda x: discretize_distance(x))\n",
    "print(\"New values for DistanceFromHome:\")\n",
    "print(np.unique(df2[\"DistanceFromHome\"], return_counts=True)[0])\n",
    "print(np.unique(df2[\"DistanceFromHome\"], return_counts=True)[1])"
   ]
  },
  {
   "cell_type": "code",
   "execution_count": 214,
   "metadata": {},
   "outputs": [
    {
     "data": {
      "text/plain": [
       "array([[<AxesSubplot:title={'center':'TotalWorkingYears'}>]], dtype=object)"
      ]
     },
     "execution_count": 214,
     "metadata": {},
     "output_type": "execute_result"
    },
    {
     "data": {
      "image/png": "[encoded data removed]",
      "text/plain": [
       "<Figure size 720x720 with 1 Axes>"
      ]
     },
     "metadata": {
      "needs_background": "light"
     },
     "output_type": "display_data"
    }
   ],
   "source": [
    "df.hist(\"TotalWorkingYears\", bins=100, figsize=(10,10))"
   ]
  },
  {
   "cell_type": "markdown",
   "metadata": {},
   "source": [
    "Anche qui la distribuzione dei dati fa un po' cagare\n",
    "Ho cercato di rendere gli intervalli più equi possibili\n",
    "Possiamo cambiare anche nomi tipo 'entry level', 'good experience'.."
   ]
  },
  {
   "cell_type": "code",
   "execution_count": 215,
   "metadata": {},
   "outputs": [
    {
     "name": "stdout",
     "output_type": "stream",
     "text": [
      "New values for DistanceFromHome:\n",
      "['10-14' '15-19' '<10' '<5' '>20']\n",
      "[353 159 493 228 237]\n"
     ]
    }
   ],
   "source": [
    "def discretize_experience(x):\n",
    "    if x < 5:\n",
    "        return '<5'\n",
    "    if x < 10:\n",
    "        return '<10'\n",
    "    if x < 15:\n",
    "        return '10-14'\n",
    "    if x < 20:\n",
    "        return '15-19'\n",
    "    return '>20'\n",
    "    \n",
    "\n",
    "df2['TotalWorkingYears'] = df['TotalWorkingYears'].apply(lambda x: discretize_experience(x))\n",
    "print(\"New values for DistanceFromHome:\")\n",
    "print(np.unique(df2[\"TotalWorkingYears\"], return_counts=True)[0])\n",
    "print(np.unique(df2[\"TotalWorkingYears\"], return_counts=True)[1])"
   ]
  },
  {
   "cell_type": "markdown",
   "metadata": {},
   "source": [
    "funzione di discretizzazione basato sul quantile"
   ]
  },
  {
   "cell_type": "code",
   "execution_count": 216,
   "metadata": {},
   "outputs": [
    {
     "data": {
      "text/plain": [
       "array([[<AxesSubplot:title={'center':'MonthlyIncome'}>]], dtype=object)"
      ]
     },
     "execution_count": 216,
     "metadata": {},
     "output_type": "execute_result"
    },
    {
     "data": {
      "image/png": "[encoded data removed]",
      "text/plain": [
       "<Figure size 720x720 with 1 Axes>"
      ]
     },
     "metadata": {
      "needs_background": "light"
     },
     "output_type": "display_data"
    }
   ],
   "source": [
    "df.hist(\"MonthlyIncome\", bins=100, figsize=(10,10))"
   ]
  },
  {
   "cell_type": "code",
   "execution_count": 217,
   "metadata": {},
   "outputs": [
    {
     "name": "stdout",
     "output_type": "stream",
     "text": [
      "New unique values for Total_income:\n",
      "['higher' 'lower' 'on_average']\n",
      "[490 490 490]\n"
     ]
    }
   ],
   "source": [
    "df2[\"MonthlyIncome\"] =  pd.qcut(df['MonthlyIncome'], 3, labels=[\"lower\", \"on_average\", \"higher\"])\n",
    "print(\"New unique values for Total_income:\")\n",
    "print(np.unique(df2[\"MonthlyIncome\"], return_counts=True)[0])\n",
    "print(np.unique(df2[\"MonthlyIncome\"], return_counts=True)[1])"
   ]
  },
  {
   "cell_type": "markdown",
   "metadata": {},
   "source": [
    "# Explainability"
   ]
  },
  {
   "cell_type": "code",
   "execution_count": 218,
   "metadata": {},
   "outputs": [],
   "source": [
    "df2[\"Gender\"] = df[\"Gender\"].apply(lambda x: \"M\" if x else \"F\")"
   ]
  },
  {
   "cell_type": "code",
   "execution_count": 219,
   "metadata": {},
   "outputs": [
    {
     "name": "stdout",
     "output_type": "stream",
     "text": [
      "     Age Attrition     BusinessTravel DistanceFromHome      Education  \\\n",
      "0  40-49       Yes      Travel_Rarely            short        College   \n",
      "1  40-49        No  Travel_Frequently            short  Below_college   \n",
      "2  30-39       Yes      Travel_Rarely            short        College   \n",
      "3  30-39        No  Travel_Frequently            short         Master   \n",
      "4  20-29        No      Travel_Rarely            short  Below_college   \n",
      "\n",
      "   EnvironmentSatisfaction Gender         JobLevel JobSatisfaction  \\\n",
      "0                        2      M  Rappresentative       Very_high   \n",
      "1                        3      M  Rappresentative          Medium   \n",
      "2                        4      M       Technician            High   \n",
      "3                        4      M       Technician            High   \n",
      "4                        1      M       Technician          Medium   \n",
      "\n",
      "  MaritalStatus MonthlyIncome OverTime PerformanceRating TotalWorkingYears  \\\n",
      "0        Single    on_average      Yes         Excellent               <10   \n",
      "1       Married    on_average       No       Outstanding             10-14   \n",
      "2        Single         lower      Yes         Excellent               <10   \n",
      "3       Married         lower      Yes         Excellent               <10   \n",
      "4       Married         lower       No         Excellent               <10   \n",
      "\n",
      "  WorkLifeBalance  \n",
      "0             Bad  \n",
      "1          Better  \n",
      "2          Better  \n",
      "3          Better  \n",
      "4          Better  \n",
      "15\n"
     ]
    }
   ],
   "source": [
    "print(df2.head())\n",
    "print(len(df2.columns))"
   ]
  },
  {
   "cell_type": "code",
   "execution_count": 220,
   "metadata": {},
   "outputs": [],
   "source": [
    "df2.to_csv('data/cleaning_dataset.csv', index=False)"
   ]
  }
 ],
 "metadata": {
  "kernelspec": {
   "display_name": "Python 3.9.13 64-bit (windows store)",
   "language": "python",
   "name": "python3"
  },
  "language_info": {
   "codemirror_mode": {
    "name": "ipython",
    "version": 3
   },
   "file_extension": ".py",
   "mimetype": "text/x-python",
   "name": "python",
   "nbconvert_exporter": "python",
   "pygments_lexer": "ipython3",
   "version": "3.9.13"
  },
  "vscode": {
   "interpreter": {
    "hash": "beaa355fea45fa02e7bd5c8ff92df1829477917c4813f6d4612aa46dcfc261e0"
   }
  }
 },
 "nbformat": 4,
 "nbformat_minor": 0
}
